{
  "metadata": {
    "kernelspec": {
      "name": "python",
      "display_name": "Python (Pyodide)",
      "language": "python"
    },
    "language_info": {
      "codemirror_mode": {
        "name": "python",
        "version": 3
      },
      "file_extension": ".py",
      "mimetype": "text/x-python",
      "name": "python",
      "nbconvert_exporter": "python",
      "pygments_lexer": "ipython3",
      "version": "3.8"
    }
  },
  "nbformat_minor": 5,
  "nbformat": 4,
  "cells": [
    {
      "id": "7306203c-0bb1-4cdc-b844-e2ade6f89c52",
      "cell_type": "markdown",
      "source": "# Data Science Tools and Ecosystem",
      "metadata": {}
    },
    {
      "id": "b810cf68-68d7-48c4-926e-f090117932ad",
      "cell_type": "markdown",
      "source": "In this notebook, Data Science Tools and Ecosystem are summarized.",
      "metadata": {}
    },
    {
      "id": "599f2a65-f65e-45d5-8522-0bc67fd9ff9d",
      "cell_type": "markdown",
      "source": "## Author\nEric Merzetti",
      "metadata": {}
    },
    {
      "id": "a9d69c1d-306d-47f1-9394-8705426c2f59",
      "cell_type": "markdown",
      "source": "__Objectives__\n- List popular languages for data science\n- List commonly used libraries used by Data Scientists\n- List of popular data science tools\n- Examples of arithmetic expressions in Python",
      "metadata": {}
    },
    {
      "id": "a0430bfe-d1dd-4168-88c0-8e4a3258288c",
      "cell_type": "markdown",
      "source": "Some of the popular languages that Data Scientists use are:\n1. Python\n2. R\n3. C++",
      "metadata": {}
    },
    {
      "id": "7a1c8d50-5324-40d5-b71b-65560642a3b3",
      "cell_type": "markdown",
      "source": "Some of the commonly used libraries used by Data Scientists include:\n1. Pandas\n2. Matplotlib\n3. PyTorch",
      "metadata": {}
    },
    {
      "id": "858649ec-eec1-4e83-a5e4-9a6aed6bd0c1",
      "cell_type": "markdown",
      "source": "| Data Science Tools | \n| ----------------- |\n| Jupyter Notebooks |\n| Apache Spark |\n| R Studio |",
      "metadata": {}
    },
    {
      "id": "e11d1ea4-f56d-48db-826c-2f90ef0629fc",
      "cell_type": "markdown",
      "source": "### Below are a few examples of evaluating arithmetic expressions in Python",
      "metadata": {}
    },
    {
      "id": "c7ac210f-bb90-4984-954c-6628fd2e431a",
      "cell_type": "code",
      "source": "",
      "metadata": {
        "trusted": true
      },
      "outputs": [],
      "execution_count": null
    }
  ]
}